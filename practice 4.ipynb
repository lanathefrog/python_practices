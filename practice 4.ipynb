{
  "nbformat": 4,
  "nbformat_minor": 0,
  "metadata": {
    "colab": {
      "provenance": []
    },
    "kernelspec": {
      "name": "python3",
      "display_name": "Python 3"
    },
    "language_info": {
      "name": "python"
    }
  },
  "cells": [
    {
      "cell_type": "markdown",
      "source": [
        "# I. Functions. Arguments."
      ],
      "metadata": {
        "id": "kXpppdVm6wFy"
      }
    },
    {
      "cell_type": "markdown",
      "source": [
        "1. (5б) Назвіть основні 4 смислові  частини, з яких складається функція."
      ],
      "metadata": {
        "id": "u_krJdlbAkVz"
      }
    },
    {
      "cell_type": "markdown",
      "source": [
        "Оголошення функції, параметри, тіло функції, повернення значення"
      ],
      "metadata": {
        "id": "KKTrTXmHAptb"
      }
    },
    {
      "cell_type": "markdown",
      "source": [
        "2. (3б) Визначте функцію, що приймає 2 аргументи та повертає результат ділення 1го аргумента на інший."
      ],
      "metadata": {
        "id": "ORM4PqJQAtDM"
      }
    },
    {
      "cell_type": "code",
      "execution_count": null,
      "metadata": {
        "id": "EuDx-z8M6sLo",
        "colab": {
          "base_uri": "https://localhost:8080/"
        },
        "outputId": "732d9bba-0353-4736-a752-071a9a6d61e2"
      },
      "outputs": [
        {
          "output_type": "stream",
          "name": "stdout",
          "text": [
            "5.0\n"
          ]
        }
      ],
      "source": [
        "def division (a, b):\n",
        "  res = a/b\n",
        "  return res\n",
        "\n",
        "print(division(10,2))"
      ]
    },
    {
      "cell_type": "markdown",
      "source": [
        "3. (2б) Викличте вище визначену функцію, де другий аргумент дорівнює 0."
      ],
      "metadata": {
        "id": "5joQGQ-SAyMe"
      }
    },
    {
      "cell_type": "code",
      "source": [
        "division(10,0)"
      ],
      "metadata": {
        "id": "V5cBV1LOA3d-",
        "colab": {
          "base_uri": "https://localhost:8080/",
          "height": 263
        },
        "outputId": "101cf5b4-ee9a-4ed6-8982-79b141e8e9b5"
      },
      "execution_count": null,
      "outputs": [
        {
          "output_type": "error",
          "ename": "ZeroDivisionError",
          "evalue": "division by zero",
          "traceback": [
            "\u001b[0;31m---------------------------------------------------------------------------\u001b[0m",
            "\u001b[0;31mZeroDivisionError\u001b[0m                         Traceback (most recent call last)",
            "\u001b[0;32m<ipython-input-2-08dceec804ec>\u001b[0m in \u001b[0;36m<cell line: 0>\u001b[0;34m()\u001b[0m\n\u001b[0;32m----> 1\u001b[0;31m \u001b[0mdivision\u001b[0m\u001b[0;34m(\u001b[0m\u001b[0;36m10\u001b[0m\u001b[0;34m,\u001b[0m\u001b[0;36m0\u001b[0m\u001b[0;34m)\u001b[0m\u001b[0;34m\u001b[0m\u001b[0;34m\u001b[0m\u001b[0m\n\u001b[0m",
            "\u001b[0;32m<ipython-input-1-9485084e75bb>\u001b[0m in \u001b[0;36mdivision\u001b[0;34m(a, b)\u001b[0m\n\u001b[1;32m      1\u001b[0m \u001b[0;32mdef\u001b[0m \u001b[0mdivision\u001b[0m \u001b[0;34m(\u001b[0m\u001b[0ma\u001b[0m\u001b[0;34m,\u001b[0m \u001b[0mb\u001b[0m\u001b[0;34m)\u001b[0m\u001b[0;34m:\u001b[0m\u001b[0;34m\u001b[0m\u001b[0;34m\u001b[0m\u001b[0m\n\u001b[0;32m----> 2\u001b[0;31m   \u001b[0mres\u001b[0m \u001b[0;34m=\u001b[0m \u001b[0ma\u001b[0m\u001b[0;34m/\u001b[0m\u001b[0mb\u001b[0m\u001b[0;34m\u001b[0m\u001b[0;34m\u001b[0m\u001b[0m\n\u001b[0m\u001b[1;32m      3\u001b[0m   \u001b[0;32mreturn\u001b[0m \u001b[0mres\u001b[0m\u001b[0;34m\u001b[0m\u001b[0;34m\u001b[0m\u001b[0m\n\u001b[1;32m      4\u001b[0m \u001b[0;34m\u001b[0m\u001b[0m\n\u001b[1;32m      5\u001b[0m \u001b[0mprint\u001b[0m\u001b[0;34m(\u001b[0m\u001b[0mdivision\u001b[0m\u001b[0;34m(\u001b[0m\u001b[0;36m10\u001b[0m\u001b[0;34m,\u001b[0m\u001b[0;36m2\u001b[0m\u001b[0;34m)\u001b[0m\u001b[0;34m)\u001b[0m\u001b[0;34m\u001b[0m\u001b[0;34m\u001b[0m\u001b[0m\n",
            "\u001b[0;31mZeroDivisionError\u001b[0m: division by zero"
          ]
        }
      ]
    },
    {
      "cell_type": "markdown",
      "source": [
        "4. (4б) Перевизначте функцію так, щоби у випадку ділення на 0 функція повертала None, а в решті випадків - результат розрахунків."
      ],
      "metadata": {
        "id": "QyimWgW8A43-"
      }
    },
    {
      "cell_type": "code",
      "source": [
        "def division_second (a, b):\n",
        "  res = None\n",
        "  if b==0:\n",
        "    return res\n",
        "  else:\n",
        "    res = a/b\n",
        "    return res\n",
        "\n",
        "print(f\"20 : 4 = {division_second(20, 4)}\")\n",
        "print(f\"20 : 0 = {division_second(20, 0)}\")"
      ],
      "metadata": {
        "id": "7VIODtSjA8Ek",
        "colab": {
          "base_uri": "https://localhost:8080/"
        },
        "outputId": "ae8daaba-bada-4ce5-808d-eb249b0a930a"
      },
      "execution_count": null,
      "outputs": [
        {
          "output_type": "stream",
          "name": "stdout",
          "text": [
            "20 : 4 = 5.0\n",
            "20 : 0 = None\n"
          ]
        }
      ]
    },
    {
      "cell_type": "markdown",
      "source": [
        "5. (5б) Визначте функцію, що віднімає одне число від іншого (підказка: це буде 2 аргументи функції). При чому, якщо не визначити, скільки саме має бути віднято від числа, за замовчуванням має відніматися 1. Викличте функцію, передаючи тільки один аргумент."
      ],
      "metadata": {
        "id": "Y8mN0GfkA81l"
      }
    },
    {
      "cell_type": "code",
      "source": [
        "def substraction(d, c=1):\n",
        "    return d - c\n",
        "\n",
        "print(f\"c - d. c = 5; d = 18 -> {substraction(18, 5)}\")\n",
        "print(f\"c - d. c = None; d = 18 -> {substraction(18)}\")\n"
      ],
      "metadata": {
        "id": "vg1kxkdgBA50",
        "colab": {
          "base_uri": "https://localhost:8080/"
        },
        "outputId": "a714bd57-511c-4b08-990c-9c6a4e37a7b3"
      },
      "execution_count": null,
      "outputs": [
        {
          "output_type": "stream",
          "name": "stdout",
          "text": [
            "c - d. c = 5; d = 18 -> 13\n",
            "c - d. c = None; d = 18 -> 17\n"
          ]
        }
      ]
    },
    {
      "cell_type": "markdown",
      "source": [
        "6. (7б) Визначте функцію, яка приймає iterable (ітерабельний обʼєкт, напр. список), що складається з 7ми рядкових значень - назв погодних умов (напр. \"sunny\") за кожен день у тижні. Повертає функція словник, де ключами є рядки з погодними умовами, а значеннями - кількість разів, скільки дана погода була протягом тижня (напр. {'sunny': 1, ...}). Викличте цю функцію та виведіть результат її роботи на екран."
      ],
      "metadata": {
        "id": "D3mwQGNOBBs4"
      }
    },
    {
      "cell_type": "code",
      "source": [
        "def count_weather(week_weather):\n",
        "    weather_count = {}\n",
        "\n",
        "    for weather in week_weather:\n",
        "        if weather in weather_count:\n",
        "            weather_count[weather] += 1\n",
        "        else:\n",
        "            weather_count[weather] = 1\n",
        "\n",
        "    return weather_count\n",
        "\n",
        "week = [\"snowy\", \"rainy\", \"rainy\", \"sunny\", \"snowy\", \"clody\", \"snowy\"]\n",
        "print(count_weather(week))\n"
      ],
      "metadata": {
        "id": "OsWm-hKcBFyn",
        "colab": {
          "base_uri": "https://localhost:8080/"
        },
        "outputId": "683f68af-1157-44e9-9d95-f65d525ea18c"
      },
      "execution_count": null,
      "outputs": [
        {
          "output_type": "stream",
          "name": "stdout",
          "text": [
            "{'snowy': 3, 'rainy': 2, 'sunny': 1, 'clody': 1}\n"
          ]
        }
      ]
    },
    {
      "cell_type": "markdown",
      "source": [
        "7. (15б) Напишіть програму, яка б шукала необхідне число у впорядкованому списку цілочислених значень, де\n",
        "число має вводитись з консолі.\n",
        "власне алгоритм пошуку винесений в окрему функцію, яка повертає булеве значення (знайдено число - True, не знайдено - False).\n",
        "в залежності від результату функції, виведіть на екран повідомлення про успішний або ж неуспішний пошук.\n",
        "Зауваження: використовувати оператор in заборонено."
      ],
      "metadata": {
        "id": "RMiCcdOsBKQT"
      }
    },
    {
      "cell_type": "code",
      "source": [
        "def find_number(list_of_numbers, target):\n",
        "    left, right = 0, len(list_of_numbers) - 1\n",
        "\n",
        "    while left <= right:\n",
        "        mid = (left + right) // 2\n",
        "        if list_of_numbers[mid] == target:\n",
        "            return True\n",
        "        elif list_of_numbers[mid] < target:\n",
        "            left = mid + 1\n",
        "        else:\n",
        "            right = mid - 1\n",
        "\n",
        "    return False\n",
        "\n",
        "sorted_numbers = list(range(1, 11))\n",
        "input_number = int(input(\"Enter a number to search: \"))\n",
        "\n",
        "if find_number(sorted_numbers, input_number):\n",
        "    print(\"Success! Number found in the list.\")\n",
        "else:\n",
        "    print(\"Failure. Number not found in the list.\")\n"
      ],
      "metadata": {
        "id": "UNCZg65OBOy-",
        "colab": {
          "base_uri": "https://localhost:8080/"
        },
        "outputId": "0412d504-3f00-4305-e079-9c3e7d5cb8dc"
      },
      "execution_count": null,
      "outputs": [
        {
          "output_type": "stream",
          "name": "stdout",
          "text": [
            "Enter a number to search: 12\n",
            "Failure. Number not found in the list.\n"
          ]
        }
      ]
    },
    {
      "cell_type": "markdown",
      "source": [
        "# II. Lambda functions."
      ],
      "metadata": {
        "id": "Ae1n_OvLBTsy"
      }
    },
    {
      "cell_type": "markdown",
      "source": [
        "8. (4б) В яких випадках варто використовувати лямбда-функції?"
      ],
      "metadata": {
        "id": "xaD_wSlaCWen"
      }
    },
    {
      "cell_type": "markdown",
      "source": [
        "Варто використовувати, коли потрібно написати коротку, одноразову функцію без створення окремого def. При використанні анонімних функцій або при передаванні як аргумент у функці"
      ],
      "metadata": {
        "id": "42MB6OoLCakR"
      }
    },
    {
      "cell_type": "markdown",
      "source": [
        "9. (9б) Визначте список з рядками. Після цього визначте анонімну функцію для отримання першого символу у верхньому регістрі для кожного рядка списку.\n",
        "Підказка: використовуйте анонімну функцію в якості агрумента до вбудованої ф-ції, яка створена для застосування функцій над iterable обʼєктами. Результат виведіть на екран у вигляді кортежу."
      ],
      "metadata": {
        "id": "USrzrk7GCedk"
      }
    },
    {
      "cell_type": "code",
      "source": [
        "days_of_week = [\"monday\", \"tuesday\", \"wednesday\", \"thursday\", \"friday\", \"saturday\", \"sunday\"]\n",
        "first_upper_days = tuple(map(lambda day: day[0].upper(), days_of_week))\n",
        "print(first_upper_days)\n"
      ],
      "metadata": {
        "id": "M8QWUsMlCjWH",
        "colab": {
          "base_uri": "https://localhost:8080/"
        },
        "outputId": "263f8d3c-85b7-4b5d-8d8d-34efce45c959"
      },
      "execution_count": 1,
      "outputs": [
        {
          "output_type": "stream",
          "name": "stdout",
          "text": [
            "('M', 'T', 'W', 'T', 'F', 'S', 'S')\n"
          ]
        }
      ]
    },
    {
      "cell_type": "markdown",
      "source": [
        "10. (10б) Визначте список з числовими значеннями (і цілими, і з рухомою комою). а) Відфільтруйте всі числа, які діляться націло на 3 за допомогою вбудованої функції та анонімної функції в якості аргумента). Збережіть результат у змінній, не приводяти явно до будь-якого типу. б) Використовуючи результат на кроці 12.а у якості аргументу, та за допомогою лямбда-функції в якості іншого аргументу до вбудованої функції, додайте до кожного елементу число 1 та опісля зведіть у квадрат. Остаточний результат приведіть явно до списку та виведіть на екран."
      ],
      "metadata": {
        "id": "9fyUhXOoCtGp"
      }
    },
    {
      "cell_type": "code",
      "source": [
        "numbers = [1, 2, 3, 4, 7, 8, 9, 10, 11, 12, 13.5, 15, 18.0, 21]\n",
        "divisible_by_3 = filter(lambda x: x % 3 == 0, numbers)\n",
        "print(\"Numbers divisible by 3:\", list(divisible_by_3))\n",
        "numbers_div_by_3 = filter(lambda x: x % 3 == 0, numbers)\n",
        "squared_plus_1 = map(lambda x: (x + 1) ** 2, numbers_div_by_3)\n",
        "\n",
        "result = list(squared_plus_1)\n",
        "print(\"Result after adding 1 and squaring:\", result)\n"
      ],
      "metadata": {
        "id": "exEx2_okCsql",
        "colab": {
          "base_uri": "https://localhost:8080/"
        },
        "outputId": "ae1a66cc-c551-4dd8-8092-f4c133a03318"
      },
      "execution_count": 5,
      "outputs": [
        {
          "output_type": "stream",
          "name": "stdout",
          "text": [
            "Numbers divisible by 3: [3, 9, 12, 15, 18.0, 21]\n",
            "Result after adding 1 and squaring: [16, 100, 169, 256, 361.0, 484]\n"
          ]
        }
      ]
    },
    {
      "cell_type": "markdown",
      "source": [
        "# III. Decorators."
      ],
      "metadata": {
        "id": "o_x8cG_WC7jp"
      }
    },
    {
      "cell_type": "markdown",
      "source": [
        "11. (11б) Визначте декоратор, який би виводив у консоль повідомлення про початок роботи і назву функції (напр. my_function._ _ name _ _), а після відпрацювання функції - повідомлення про закінчення роботи і назву функції, що задекорована."
      ],
      "metadata": {
        "id": "mhxS4-mfC8LQ"
      }
    },
    {
      "cell_type": "code",
      "source": [
        "def decorator(func):\n",
        "    def wrapper(*args, **kwargs):\n",
        "        print(f\"Starting {func.__name__}\")\n",
        "        res = func(*args, **kwargs)\n",
        "        print(f\"Finished {func.__name__}\")\n",
        "\n",
        "        return res\n",
        "    return wrapper\n",
        "@decorator\n",
        "def my_cool_function():\n",
        "    print(\"Function is doing something...\")\n",
        "\n",
        "my_cool_function()\n"
      ],
      "metadata": {
        "id": "srd1ygWjDGhO",
        "colab": {
          "base_uri": "https://localhost:8080/"
        },
        "outputId": "51f94e61-b21e-4117-8c3f-97ab5390c9a7"
      },
      "execution_count": 7,
      "outputs": [
        {
          "output_type": "stream",
          "name": "stdout",
          "text": [
            "Starting my_cool_function\n",
            "Function is doing something...\n",
            "Finished my_cool_function\n"
          ]
        }
      ]
    },
    {
      "cell_type": "markdown",
      "source": [
        "12. (4б) Задекоруйте двома різними способами функції з завдання 4 та 5 декоратором із завдання 11. (**УВАГА**: не декоруйте функції двічі!)."
      ],
      "metadata": {
        "id": "rxGZwVBiDph3"
      }
    },
    {
      "cell_type": "code",
      "source": [
        "def log_function_call(func):\n",
        "    def wrapper(*args, **kwargs):\n",
        "        print(f\"Starting function: {func.__name__}\")\n",
        "        result = func(*args, **kwargs)\n",
        "        print(f\"Finished function: {func.__name__}\")\n",
        "        return result\n",
        "    return wrapper\n",
        "\n",
        "@log_function_call\n",
        "def division_second(a, b):\n",
        "    if b == 0:\n",
        "        return None\n",
        "    else:\n",
        "        return a / b\n",
        "\n",
        "print(f\"20 : 4 = {division_second(20, 4)}\")\n",
        "print(f\"20 : 0 = {division_second(20, 0)}\")\n",
        "\n",
        "def subtraction(d, c=1):\n",
        "    return d - c\n",
        "\n",
        "decorated_subtraction = log_function_call(subtraction)\n",
        "\n",
        "print(f\"c - d. c = 5; d = 18 -> {decorated_subtraction(18, 5)}\")\n",
        "print(f\"c - d. c = None; d = 18 -> {decorated_subtraction(18)}\")\n"
      ],
      "metadata": {
        "id": "06lj7eq_DwZe",
        "colab": {
          "base_uri": "https://localhost:8080/"
        },
        "outputId": "8b620847-cdd2-4e1f-97d1-a44f5f79f6c9"
      },
      "execution_count": 8,
      "outputs": [
        {
          "output_type": "stream",
          "name": "stdout",
          "text": [
            "Starting function: division_second\n",
            "Finished function: division_second\n",
            "20 : 4 = 5.0\n",
            "Starting function: division_second\n",
            "Finished function: division_second\n",
            "20 : 0 = None\n",
            "Starting function: subtraction\n",
            "Finished function: subtraction\n",
            "c - d. c = 5; d = 18 -> 13\n",
            "Starting function: subtraction\n",
            "Finished function: subtraction\n",
            "c - d. c = None; d = 18 -> 17\n"
          ]
        }
      ]
    },
    {
      "cell_type": "markdown",
      "source": [
        "13. (2б) Викличте одну з задекорованих функцій і виведіть її результат на екран."
      ],
      "metadata": {
        "id": "P0ep1urBDzf-"
      }
    },
    {
      "cell_type": "code",
      "source": [
        "def log_function_call(func):\n",
        "    def wrapper(*args, **kwargs):\n",
        "        print(f\"Starting function: {func.__name__}\")\n",
        "        result = func(*args, **kwargs)\n",
        "        print(f\"Finished function: {func.__name__}\")\n",
        "        return result\n",
        "    return wrapper\n",
        "\n",
        "@log_function_call\n",
        "def division_second(a, b):\n",
        "    if b == 0:\n",
        "        return None\n",
        "    else:\n",
        "        return a / b\n",
        "\n",
        "result = division_second(30, 5)\n",
        "print(f\"Result of division_second(30, 5): {result}\")\n"
      ],
      "metadata": {
        "id": "1QvTw0ctD0S3",
        "colab": {
          "base_uri": "https://localhost:8080/"
        },
        "outputId": "a9f1e77b-35a4-43b3-c08f-2c6e404e4a08"
      },
      "execution_count": 9,
      "outputs": [
        {
          "output_type": "stream",
          "name": "stdout",
          "text": [
            "Starting function: division_second\n",
            "Finished function: division_second\n",
            "Result of division_second(30, 5): 6.0\n"
          ]
        }
      ]
    },
    {
      "cell_type": "markdown",
      "source": [
        "# IV. Recursion."
      ],
      "metadata": {
        "id": "poECCpuoD2S9"
      }
    },
    {
      "cell_type": "markdown",
      "source": [
        "14. (4б) Назвіть дві частини функції, які є обовʼязковими для того, щоб називати її рекурсивною."
      ],
      "metadata": {
        "id": "DqkURfdsD7MY"
      }
    },
    {
      "cell_type": "markdown",
      "source": [
        "Умова повернення та рекурсивний виклик"
      ],
      "metadata": {
        "id": "HYW6ttIeIQIU"
      }
    },
    {
      "cell_type": "markdown",
      "source": [
        "15. (15б) Визначте функцію, яка рекурсивно реалізовує пошук числа у послідовності Фібоначчі за її індексом (нумерація починається з нуля). Наприклад, потрібно знайти перше число у послідовності, тоді функція прийматиме 0 у якості аргумента і повертатиме 1, якщо ж знаходити третє число (індекс 2) послідовності, то функція повертатиме 2, якщо ж знаходити десяте число (індекс 9), то функція повертатиме 55."
      ],
      "metadata": {
        "id": "WYVt20UmEA35"
      }
    },
    {
      "cell_type": "code",
      "source": [
        "def fibonacci(n):\n",
        "    if n == 0 or n == 1:\n",
        "        return 1\n",
        "    return fibonacci(n - 1) + fibonacci(n - 2)\n",
        "\n",
        "print(fibonacci(0))\n",
        "print(fibonacci(2))\n",
        "print(fibonacci(9))\n"
      ],
      "metadata": {
        "id": "xIMhp05AIpV_",
        "colab": {
          "base_uri": "https://localhost:8080/"
        },
        "outputId": "abb90ef3-bb22-4609-c160-ac25be657f83"
      },
      "execution_count": 10,
      "outputs": [
        {
          "output_type": "stream",
          "name": "stdout",
          "text": [
            "1\n",
            "2\n",
            "55\n"
          ]
        }
      ]
    },
    {
      "cell_type": "markdown",
      "source": [
        "# Вітаю! Ви велика(ий) молодець, що впоралась(вся). Похваліть себе та побалуйте чимось приємним. Я Вами пишаюся."
      ],
      "metadata": {
        "id": "ytXC8n_4Ip0W"
      }
    },
    {
      "cell_type": "markdown",
      "source": [
        "![41764ce16ebb6d92a96cd67097768227.jpg](data:image/jpeg;base64,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)"
      ],
      "metadata": {
        "id": "PC6jkiLEiDFJ"
      }
    }
  ]
}