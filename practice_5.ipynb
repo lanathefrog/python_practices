{
  "nbformat": 4,
  "nbformat_minor": 0,
  "metadata": {
    "colab": {
      "provenance": []
    },
    "kernelspec": {
      "name": "python3",
      "display_name": "Python 3"
    },
    "language_info": {
      "name": "python"
    }
  },
  "cells": [
    {
      "cell_type": "markdown",
      "source": [
        "# I. OOP"
      ],
      "metadata": {
        "id": "5qV_sehzFCTp"
      }
    },
    {
      "cell_type": "markdown",
      "source": [
        "1. (6б). Створіть клас Building, додайте три атрибути, один з яких має значення за замовчуванням та два методи на свій розсуд."
      ],
      "metadata": {
        "id": "tx_U_hOALyfg"
      }
    },
    {
      "cell_type": "code",
      "source": [
        "class Animal:\n",
        "    def __init__(self, name, species, sound=\"Silent\"):\n",
        "        self.name = name\n",
        "        self.species = species\n",
        "        self.sound = sound\n",
        "\n",
        "    def make_sound(self):\n",
        "        return f\"{self.name} says {self.sound}!\"\n",
        "\n",
        "    def info(self):\n",
        "      return f\"{self.name} is a {self.species} and usually makes a '{self.sound}' sound\"\n",
        "\n",
        "a1 = Animal(\"Buddy\", \"Dog\", \"Woof\")\n",
        "print(a1.make_sound())\n",
        "print(a1.info())\n",
        "\n"
      ],
      "metadata": {
        "id": "-Vf895KaL88N",
        "colab": {
          "base_uri": "https://localhost:8080/"
        },
        "outputId": "ad72c204-fb1d-4784-aae8-aa4966d7bfb7"
      },
      "execution_count": null,
      "outputs": [
        {
          "output_type": "stream",
          "name": "stdout",
          "text": [
            "Buddy says Woof!\n",
            "Buddy is a Dog and usually makes a 'Woof' sound\n"
          ]
        }
      ]
    },
    {
      "cell_type": "markdown",
      "source": [
        "2. (2б). Створіть два обʼєкти цього класу, де один з обʼєктів створюється із дефолтним значенням атрибуту. На одному обʼєкті отримайте значення його атрибуту, а на іншому викличте один з його методів."
      ],
      "metadata": {
        "id": "X_UlOMB0L93w"
      }
    },
    {
      "cell_type": "code",
      "source": [
        "class Animal:\n",
        "    def __init__(self, name, species, sound=\"Silent\"):\n",
        "        self.name = name\n",
        "        self.species = species\n",
        "        self.sound = sound\n",
        "\n",
        "    def make_sound(self):\n",
        "        return f\"{self.name} says {self.sound}!\"\n",
        "\n",
        "    def info(self):\n",
        "        return f\"{self.name} is a {self.species} and usually makes a '{self.sound}' sound.\"\n",
        "\n",
        "\n",
        "animal1 = Animal(\"Buddy\", \"Dog\", \"Woof\")\n",
        "animal2 = Animal(\"Whiskers\", \"Cat\")\n",
        "\n",
        "print(animal1.species)\n",
        "print(animal2.make_sound())\n"
      ],
      "metadata": {
        "id": "7gBu0ESOMCpG",
        "colab": {
          "base_uri": "https://localhost:8080/"
        },
        "outputId": "c903a5ae-7bd8-44f0-c1df-12479898db99"
      },
      "execution_count": null,
      "outputs": [
        {
          "output_type": "stream",
          "name": "stdout",
          "text": [
            "Dog\n",
            "Whiskers says Silent!\n"
          ]
        }
      ]
    },
    {
      "cell_type": "markdown",
      "source": [
        "3. (5б). Створіть клас, де атрибути мають різні рівні доступу. Спробуйте отримати їхні значення та опишіть результати."
      ],
      "metadata": {
        "id": "HoqSCZt1MHn5"
      }
    },
    {
      "cell_type": "code",
      "source": [
        "class Food:\n",
        "    def __init__(self, name, calories, secret_ingredient):\n",
        "        self.name = name\n",
        "        self._calories = calories\n",
        "        self.__secret_ingredient = secret_ingredient\n",
        "\n",
        "    def get_secret_ingredient(self):\n",
        "        return f\"The secret ingredient of {self.name} is {self.__secret_ingredient}.\"\n",
        "\n",
        "pizza = Food(\"Pizza\", 300, \"Special Sauce\")\n",
        "\n",
        "print(pizza.name)\n",
        "print(pizza._calories)\n",
        "# print(pizza.__secret_ingredient)  // will cause error\n",
        "\n",
        "\n",
        "print(pizza.get_secret_ingredient())\n"
      ],
      "metadata": {
        "id": "r9b3vJxBMSPV",
        "colab": {
          "base_uri": "https://localhost:8080/"
        },
        "outputId": "c3ad01c5-773a-42d8-ab2e-8c2c0fe24471"
      },
      "execution_count": null,
      "outputs": [
        {
          "output_type": "stream",
          "name": "stdout",
          "text": [
            "Pizza\n",
            "300\n",
            "The secret ingredient of Pizza is Special Sauce.\n"
          ]
        }
      ]
    },
    {
      "cell_type": "markdown",
      "source": [
        "4. (7б). Як ви розумієте термін self? Для чого використовується метод __init __?"
      ],
      "metadata": {
        "id": "5op2m2vgMSkZ"
      }
    },
    {
      "cell_type": "markdown",
      "source": [
        "self — перший параметр, який приймає будь-який метод класу, він дозволяє доступатись до полів та методів цього класу\n",
        "\n",
        "__init__ — конструктор класу, ініалізує новий об'єкт і встановлює значення його полів"
      ],
      "metadata": {
        "id": "DyiPqNRvMasx"
      }
    },
    {
      "cell_type": "markdown",
      "source": [
        "5. (9б). Створіть клас 3D-фігура без атрибутів, з методом get_volume для отримання об'єму фігури, що повертає 0 та __add __, який приймає self та other в якості аргументів, а повертає суму об'ємів 3d-фігур self та other."
      ],
      "metadata": {
        "id": "-6X8EGfjMd2y"
      }
    },
    {
      "cell_type": "code",
      "source": [
        "class ThreeDFigure:\n",
        "    def __init__(self):\n",
        "        pass\n",
        "\n",
        "    def get_volume(self):\n",
        "        return 0\n",
        "\n",
        "    def __add__(self, other):\n",
        "        if isinstance(other, ThreeDFigure):\n",
        "            return self.get_volume() + other.get_volume()\n",
        "        return NotImplemented\n",
        "\n",
        "figure1 = ThreeDFigure()\n",
        "figure2 = ThreeDFigure()\n",
        "\n",
        "print(figure1.get_volume())\n",
        "print(figure2.get_volume())\n",
        "\n",
        "volume_sum = figure1 + figure2\n",
        "print(volume_sum)\n",
        "\n"
      ],
      "metadata": {
        "id": "4rvO_wYUMaEr",
        "colab": {
          "base_uri": "https://localhost:8080/"
        },
        "outputId": "b15f921a-0688-4d91-d21b-acb85bf03eac"
      },
      "execution_count": null,
      "outputs": [
        {
          "output_type": "stream",
          "name": "stdout",
          "text": [
            "0\n",
            "0\n",
            "0\n"
          ]
        }
      ]
    },
    {
      "cell_type": "markdown",
      "source": [
        "6. (11б). Створіть 2 дочірніх класи від 3d-фігура: Циліндр та Куб, які мають атрибути, необхідні для розрахунку об'єму. Визначте метод get_volume в кожному з них так, щоби вони розраховували об'єм у залежності від формули для кожного типу фігури. Створіть обʼєкт класу Циліндр та обʼєкт класу Куб. Виконайте операцію суми за допомогою оператора + між ними, аби знайти сумарний об'єм."
      ],
      "metadata": {
        "id": "SFcKnnv5Mo_z"
      }
    },
    {
      "cell_type": "code",
      "source": [
        "import math\n",
        "\n",
        "class ThreeDFigure:\n",
        "    def __init__(self):\n",
        "        pass\n",
        "\n",
        "    def get_volume(self):\n",
        "        return 0\n",
        "\n",
        "    def __add__(self, other):\n",
        "        if isinstance(other, ThreeDFigure):\n",
        "            return self.get_volume() + other.get_volume()\n",
        "        return NotImplemented\n",
        "\n",
        "class Cylinder(ThreeDFigure):\n",
        "    def __init__(self, height, radius):\n",
        "        super().__init__()\n",
        "        self.height = height\n",
        "        self.radius = radius\n",
        "\n",
        "    def get_volume(self):\n",
        "      volume = math.pi * (self.radius ** 2) * self.height\n",
        "      return volume\n",
        "\n",
        "class Cube(ThreeDFigure):\n",
        "    def __init__(self, side_length):\n",
        "        super().__init__()\n",
        "        self.side_length = side_length\n",
        "\n",
        "    def get_volume(self):\n",
        "      volume = self.side_length ** 3\n",
        "      return volume\n",
        "\n",
        "cylinder = Cylinder(5, 3)\n",
        "cube = Cube(4)\n",
        "\n",
        "print(f\"Volume of Cylinder: {cylinder.get_volume()}\")\n",
        "print(f\"Volume of Cube: {cube.get_volume()}\")\n",
        "\n",
        "total_volume = cylinder + cube\n",
        "print(f\"Volume of Cube + Volube of Cyllinder: {total_volume}\")\n"
      ],
      "metadata": {
        "id": "H3GVNr69Muf3",
        "colab": {
          "base_uri": "https://localhost:8080/"
        },
        "outputId": "ea8854be-bb20-4e26-cc28-fac0467d641a"
      },
      "execution_count": null,
      "outputs": [
        {
          "output_type": "stream",
          "name": "stdout",
          "text": [
            "Volume of Cylinder: 141.3716694115407\n",
            "Volume of Cube: 64\n",
            "Volume of Cube + Volube of Cyllinder: 205.3716694115407\n"
          ]
        }
      ]
    },
    {
      "cell_type": "markdown",
      "source": [
        "7. (3б). Продемонструйте різницю між isinstance та issubclass."
      ],
      "metadata": {
        "id": "HCvR206YMvLK"
      }
    },
    {
      "cell_type": "code",
      "source": [
        "class UniversityMember:\n",
        "    def __init__(self, name):\n",
        "        self.name = name\n",
        "\n",
        "    def get_info(self):\n",
        "        return f\"University Member: {self.name}\"\n",
        "\n",
        "class Student(UniversityMember):\n",
        "    def __init__(self, name, student_id):\n",
        "        super().__init__(name)\n",
        "        self.student_id = student_id\n",
        "\n",
        "    def get_info(self):\n",
        "        return f\"Student: {self.name}, ID: {self.student_id}\"\n",
        "\n",
        "class Professor(UniversityMember):\n",
        "    def __init__(self, name, subject):\n",
        "        super().__init__(name)\n",
        "        self.subject = subject\n",
        "\n",
        "    def get_info(self):\n",
        "        return f\"Professor: {self.name}, Subject: {self.subject}\"\n",
        "\n",
        "student = Student(\"John Doe\", \"S123\")\n",
        "professor = Professor(\"Dr. Smith\", \"Mathematics\")\n",
        "\n",
        "print(isinstance(student, Student))\n",
        "print(isinstance(student, UniversityMember))\n",
        "print(isinstance(professor, Student))\n",
        "print(isinstance(professor, UniversityMember))\n",
        "\n",
        "print(issubclass(Student, UniversityMember))\n",
        "print(issubclass(Professor, UniversityMember))\n",
        "print(issubclass(Student, Professor))\n"
      ],
      "metadata": {
        "id": "L_V1bBvDM0GN",
        "colab": {
          "base_uri": "https://localhost:8080/"
        },
        "outputId": "caddf04b-c828-4230-eadf-9f312cb19bac"
      },
      "execution_count": null,
      "outputs": [
        {
          "output_type": "stream",
          "name": "stdout",
          "text": [
            "True\n",
            "True\n",
            "False\n",
            "True\n",
            "True\n",
            "True\n",
            "False\n"
          ]
        }
      ]
    },
    {
      "cell_type": "markdown",
      "source": [
        "8. (13б). Створіть клас EWallet з приватними атрибутами balance та id. Реалізуйте методи поповнення та зняття коштів, забезпечивши належну інкапсуляцію. Підказка: використовуйте декоратори property та setter."
      ],
      "metadata": {
        "id": "jjsaBZ-iM0Qq"
      }
    },
    {
      "cell_type": "code",
      "source": [
        "class EWallet:\n",
        "    def __init__(self, wallet_id, initial_balance=0):\n",
        "        self.__id = wallet_id\n",
        "        self.__balance = initial_balance\n",
        "\n",
        "    @property\n",
        "    def balance(self):\n",
        "        return self.__balance\n",
        "\n",
        "    @balance.setter\n",
        "    def balance(self, value):\n",
        "        if value < 0:\n",
        "            print(\"Error: Balance cannot be negative.\")\n",
        "        else:\n",
        "            self.__balance = value\n",
        "\n",
        "    @property\n",
        "    def id(self):\n",
        "        return self.__id\n",
        "\n",
        "    def deposit(self, amount):\n",
        "        if amount > 0:\n",
        "            self.__balance += amount\n",
        "            print(f\"Deposited {amount}. New balance: {self.__balance}\")\n",
        "        else:\n",
        "            print(\"Error: Deposit amount can't be negative.\")\n",
        "\n",
        "    def withdraw_funds(self, amount):\n",
        "        if amount > 0:\n",
        "            if self.__balance >= amount:\n",
        "                self.__balance -= amount\n",
        "                print(f\"Withdrew {amount}. New balance: {self.__balance}\")\n",
        "            else:\n",
        "                print(\"Error: Insufficient balance.\")\n",
        "        else:\n",
        "            print(\"Error: Withdrawal amount must be positive.\")\n",
        "\n",
        "wallet = EWallet(\"W12345\", 100)\n",
        "print(f\"Initial balance: {wallet.balance}\")\n",
        "\n",
        "wallet.deposit(50)\n",
        "wallet.withdraw_funds(30)\n",
        "\n",
        "# wallet.balance = -10\n",
        "\n",
        "print(f\"Current balance: {wallet.balance}\")\n"
      ],
      "metadata": {
        "id": "xCvZ7lh8M7YA",
        "colab": {
          "base_uri": "https://localhost:8080/"
        },
        "outputId": "3399440a-92b0-4ff7-ecbf-ac0b87ca9210"
      },
      "execution_count": null,
      "outputs": [
        {
          "output_type": "stream",
          "name": "stdout",
          "text": [
            "Initial balance: 100\n",
            "Deposited 50. New balance: 150\n",
            "Withdrew 30. New balance: 120\n",
            "Current balance: 120\n"
          ]
        }
      ]
    },
    {
      "cell_type": "markdown",
      "source": [
        "9. (11б). Створіть клас ShoppingCart, який містить список об'єктів типу Item. Реалізуйте методи для додавання айтемів, їх видалення та відображення списку айтемів."
      ],
      "metadata": {
        "id": "tIzL2SJTM8ft"
      }
    },
    {
      "cell_type": "code",
      "source": [
        "class Item:\n",
        "    def __init__(self, name, category, price):\n",
        "        self.name = name\n",
        "        self.category = category\n",
        "        self.price = price\n",
        "\n",
        "    def __str__(self):\n",
        "        return f\"Product: {self.name}. Category: {self.category}. Price: ₴{self.price}\"\n",
        "\n",
        "\n",
        "class ShoppingCart:\n",
        "    def __init__(self):\n",
        "        self.items = []\n",
        "\n",
        "    def add_item(self, item):\n",
        "        self.items.append(item)\n",
        "        print(f\"Added: {item}\")\n",
        "\n",
        "    def remove_item(self, item_name):\n",
        "        item_to_remove = None\n",
        "        for item in self.items:\n",
        "            if item.name == item_name:\n",
        "                item_to_remove = item\n",
        "                break\n",
        "        if item_to_remove:\n",
        "            self.items.remove(item_to_remove)\n",
        "            print(f\"Removed: {item_to_remove}\")\n",
        "        else:\n",
        "            print(f\"Item '{item_name}' not found in the cart.\")\n",
        "\n",
        "    def show_items(self):\n",
        "        if self.items:\n",
        "            print(\"Shopping Cart contains:\")\n",
        "            for item in self.items:\n",
        "                print(item)\n",
        "        else:\n",
        "            print(\"The shopping cart is empty.\")\n",
        "\n",
        "candy = Item(\"Candy\", \"Sweets\", 10)\n",
        "carrot = Item(\"Carrot\", \"Vegetables\", 12)\n",
        "steak = Item(\"Steak\", \"Meat\", 70)\n",
        "\n",
        "\n",
        "cart = ShoppingCart()\n",
        "\n",
        "cart.add_item(candy)\n",
        "cart.add_item(carrot)\n",
        "cart.add_item(steak)\n",
        "\n",
        "cart.show_items()\n",
        "cart.remove_item(\"Carrot\")\n",
        "cart.show_items()\n",
        "cart.remove_item(\"Banana\")\n"
      ],
      "metadata": {
        "id": "HWxfJKLtNAUZ",
        "colab": {
          "base_uri": "https://localhost:8080/"
        },
        "outputId": "4481cc79-3c40-41dc-dd91-2e393bdbf8b9"
      },
      "execution_count": null,
      "outputs": [
        {
          "output_type": "stream",
          "name": "stdout",
          "text": [
            "Added: Product: Candy. Category: Sweets. Price: ₴10\n",
            "Added: Product: Carrot. Category: Vegetables. Price: ₴12\n",
            "Added: Product: Steak. Category: Meat. Price: ₴70\n",
            "Shopping Cart contains:\n",
            "Product: Candy. Category: Sweets. Price: ₴10\n",
            "Product: Carrot. Category: Vegetables. Price: ₴12\n",
            "Product: Steak. Category: Meat. Price: ₴70\n",
            "Removed: Product: Carrot. Category: Vegetables. Price: ₴12\n",
            "Shopping Cart contains:\n",
            "Product: Candy. Category: Sweets. Price: ₴10\n",
            "Product: Steak. Category: Meat. Price: ₴70\n",
            "Item 'Banana' not found in the cart.\n"
          ]
        }
      ]
    },
    {
      "cell_type": "markdown",
      "source": [
        "10. (13б). Створіть клас Vehicle з атрибутами brand (manufacturer) та production_age. Створіть ще один клас Engine з такими атрибутами, як type (ex. petrol) та size (volume, litres). Створіть клас Car, який успадковує обидва класи Vehicle та Engine. Продемонструйте використання множинної спадковості, створивши обʼєкт класу Car та отримавши mro для цього класу."
      ],
      "metadata": {
        "id": "lmV8pAwwNIqu"
      }
    },
    {
      "cell_type": "code",
      "source": [
        "class Vehicle:\n",
        "    def __init__(self, brand, production_age):\n",
        "        self.brand = brand\n",
        "        self.production_age = production_age\n",
        "\n",
        "    def get_info(self):\n",
        "        return f\"Brand: {self.brand}, Production Age: {self.production_age} years\"\n",
        "\n",
        "class Engine:\n",
        "    def __init__(self, engine_type, size):\n",
        "        self.engine_type = engine_type\n",
        "        self.size = size\n",
        "\n",
        "    def get_engine_info(self):\n",
        "        return f\"Engine Type: {self.engine_type}, Size: {self.size} liters\"\n",
        "\n",
        "class Car(Vehicle, Engine):\n",
        "    def __init__(self, brand, production_age, engine_type, size):\n",
        "        Vehicle.__init__(self, brand, production_age)\n",
        "        Engine.__init__(self, engine_type, size)\n",
        "\n",
        "    def get_car_info(self):\n",
        "        vehicle_info = self.get_info()\n",
        "        engine_info = self.get_engine_info()\n",
        "        return f\"{vehicle_info}, {engine_info}\"\n",
        "\n",
        "car = Car(\"Honda\", 5, \"Petrol\", 2.0)\n",
        "print(car.get_car_info())\n",
        "print(\"MRO:\", Car.__mro__)\n"
      ],
      "metadata": {
        "id": "R49grKlWNPeN"
      },
      "execution_count": null,
      "outputs": []
    },
    {
      "cell_type": "markdown",
      "source": [
        "# II. Iterator"
      ],
      "metadata": {
        "id": "dIJyUiNBFG8G"
      }
    },
    {
      "cell_type": "markdown",
      "source": [
        "11. (4б). Визначте рядок(str) з 4ма різними за значенням символами. Створіть ітератор на основі цього рядка. Викличте 5 разів функцію next на ітераторі, 4ри перших з них огорніть у ф-цію print()."
      ],
      "metadata": {
        "id": "13vsm0NyKIzL"
      }
    },
    {
      "cell_type": "code",
      "source": [
        "my_string = \"boba\"\n",
        "iterator = iter(my_string)\n",
        "\n",
        "print(next(iterator))\n",
        "print(next(iterator))\n",
        "print(next(iterator))\n",
        "print(next(iterator))\n",
        "\n",
        "\n",
        "next(iterator)"
      ],
      "metadata": {
        "id": "81ntabAkKuz-",
        "colab": {
          "base_uri": "https://localhost:8080/",
          "height": 245
        },
        "outputId": "bfd61e03-f836-4286-efb9-e939dc16f32a"
      },
      "execution_count": null,
      "outputs": [
        {
          "output_type": "stream",
          "name": "stdout",
          "text": [
            "b\n",
            "o\n",
            "b\n",
            "a\n"
          ]
        },
        {
          "output_type": "error",
          "ename": "StopIteration",
          "evalue": "",
          "traceback": [
            "\u001b[0;31m---------------------------------------------------------------------------\u001b[0m",
            "\u001b[0;31mStopIteration\u001b[0m                             Traceback (most recent call last)",
            "\u001b[0;32m<ipython-input-7-476dc103a591>\u001b[0m in \u001b[0;36m<cell line: 0>\u001b[0;34m()\u001b[0m\n\u001b[1;32m      8\u001b[0m \u001b[0;34m\u001b[0m\u001b[0m\n\u001b[1;32m      9\u001b[0m \u001b[0;34m\u001b[0m\u001b[0m\n\u001b[0;32m---> 10\u001b[0;31m \u001b[0mnext\u001b[0m\u001b[0;34m(\u001b[0m\u001b[0miterator\u001b[0m\u001b[0;34m)\u001b[0m\u001b[0;34m\u001b[0m\u001b[0;34m\u001b[0m\u001b[0m\n\u001b[0m",
            "\u001b[0;31mStopIteration\u001b[0m: "
          ]
        }
      ]
    },
    {
      "cell_type": "markdown",
      "source": [
        "А що якщо викликати цю ж функцію на рядку?"
      ],
      "metadata": {
        "id": "aekWHGXOLRsO"
      }
    },
    {
      "cell_type": "code",
      "source": [
        "iterator = iter(\"love\")\n",
        "print(next(iterator))\n"
      ],
      "metadata": {
        "id": "mxATGsErLV1i",
        "colab": {
          "base_uri": "https://localhost:8080/"
        },
        "outputId": "68a827e8-2841-4360-df88-cbd2a6e21b92"
      },
      "execution_count": null,
      "outputs": [
        {
          "output_type": "stream",
          "name": "stdout",
          "text": [
            "l\n"
          ]
        }
      ]
    },
    {
      "cell_type": "markdown",
      "source": [
        " 12. (5б). Опишіть своїми словами в одному реченні, як ви розумієте різницю між ітерабельними обʼєктами та ітераторами (можна на прикладі)."
      ],
      "metadata": {
        "id": "XwtMEopwJ4pH"
      }
    },
    {
      "cell_type": "markdown",
      "source": [
        "Ітерабельний об'єкт — об'єкт, на основі якого можна створити ітератор, а ітератор — це об'єкт, що доступається до елементів один за одним при кожному виклику функції next"
      ],
      "metadata": {
        "id": "-sHrODc3KFn8"
      }
    },
    {
      "cell_type": "markdown",
      "source": [
        "13. (11б). Створіть клас, що має визначений Iterator Protocol та при кожному виклику next повертає назву дня тижня, поки вони не вичерпаються. Зверніть увагу, що порядок має значення."
      ],
      "metadata": {
        "id": "E9qJWmNbK8Gl"
      }
    },
    {
      "cell_type": "code",
      "source": [
        "class WeekdaysIterator:\n",
        "    def __init__(self):\n",
        "        self.days_of_week = [\"Monday\", \"Tuesday\", \"Wednesday\", \"Thursday\", \"Friday\", \"Saturday\", \"Sunday\"]\n",
        "        self.index = 0\n",
        "\n",
        "    def __iter__(self):\n",
        "        return self\n",
        "\n",
        "    def __next__(self):\n",
        "        if self.index < len(self.days_of_week):\n",
        "            day = self.days_of_week[self.index]\n",
        "            self.index += 1\n",
        "            return day\n",
        "        else:\n",
        "            raise StopIteration\n",
        "\n",
        "weekdays_iterator = WeekdaysIterator()\n",
        "for day in weekdays_iterator:\n",
        "    print(day)\n"
      ],
      "metadata": {
        "id": "cqx-g_RsLo6I",
        "colab": {
          "base_uri": "https://localhost:8080/"
        },
        "outputId": "c379e0f7-e949-4405-876c-87ccdc0b0fa6"
      },
      "execution_count": null,
      "outputs": [
        {
          "output_type": "stream",
          "name": "stdout",
          "text": [
            "Monday\n",
            "Tuesday\n",
            "Wednesday\n",
            "Thursday\n",
            "Friday\n",
            "Saturday\n",
            "Sunday\n"
          ]
        }
      ]
    },
    {
      "cell_type": "markdown",
      "source": [
        "# Вітаю! Ви велика(ий) молодець, що впоралась(вся). Похваліть себе та побалуйте чимось приємним. Я Вами пишаюся."
      ],
      "metadata": {
        "id": "Z3E3S_s1Fv7-"
      }
    }
  ]
}