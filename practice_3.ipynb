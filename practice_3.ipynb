{
  "nbformat": 4,
  "nbformat_minor": 0,
  "metadata": {
    "colab": {
      "provenance": []
    },
    "kernelspec": {
      "name": "python3",
      "display_name": "Python 3"
    },
    "language_info": {
      "name": "python"
    }
  },
  "cells": [
    {
      "cell_type": "markdown",
      "source": [
        "# I. Оператори порівняння та логічні оператори. Умови."
      ],
      "metadata": {
        "id": "qDEi2Pi-4yUC"
      }
    },
    {
      "cell_type": "markdown",
      "source": [
        "1. (5б) Створіть цілочисленну змінну зі своїм щасливим або улюбленим числом. Напишіть код, який би автоматизовував наступну задачу.\n",
        "\n",
        "Якщо число парне, помножте його на 2 та виведіть результат на екран.\n",
        "\n",
        "Але якщо число непарне, помножте його на 3 та додайте 1 і виведіть на екран."
      ],
      "metadata": {
        "id": "3v8D4Dkm43Ua"
      }
    },
    {
      "cell_type": "code",
      "execution_count": 3,
      "metadata": {
        "id": "dlVjc-Nu4bmb",
        "colab": {
          "base_uri": "https://localhost:8080/"
        },
        "outputId": "f418cccd-f70c-41b7-b2b9-db369135fd36"
      },
      "outputs": [
        {
          "output_type": "stream",
          "name": "stdout",
          "text": [
            "a is: 16\n",
            "32\n"
          ]
        }
      ],
      "source": [
        "a = 16;\n",
        "print(f\"a is: {a}\")\n",
        "if a%2==0:\n",
        "  print(a*2)\n",
        "else:\n",
        "  print(a*3+1)"
      ]
    },
    {
      "cell_type": "markdown",
      "source": [
        "2. (9б) Створіть змінну, що посилається на список. Якщо список пустий, додайте будь-який елемент у кінець списку. Якщо ж ні, то нічого не робіть."
      ],
      "metadata": {
        "id": "H669P0QK5BI_"
      }
    },
    {
      "cell_type": "code",
      "source": [
        "my_list = [];\n",
        "\n",
        "if len(my_list)==0:\n",
        "  my_list.append(\"Coca-cola\")\n",
        "\n",
        "print(my_list)"
      ],
      "metadata": {
        "id": "ecWlfra45f6E",
        "colab": {
          "base_uri": "https://localhost:8080/"
        },
        "outputId": "a6b810e5-6061-4a4a-aa5f-90087312d779"
      },
      "execution_count": 6,
      "outputs": [
        {
          "output_type": "stream",
          "name": "stdout",
          "text": [
            "['Coca-cola']\n"
          ]
        }
      ]
    },
    {
      "cell_type": "markdown",
      "source": [
        "3. (13б) Створіть рядок зі своїм імʼям латинкою. Напишіть код, який би автоматизовував наступну задачу.\n",
        "\n",
        "Якщо в імені є літера \"а\"\n",
        " або \"i\", Виведіть на екран повідомлення \"A or I is in the name\".\n",
        "\n",
        "\n",
        "\n",
        "Якщо в імені є літери \"o\" та \"n\", Виведіть на екран повідомлення \"O and N is in the name\".\n",
        "\n",
        "Також якщо в імені немає літери \"о\", але є \"n\", Виведіть на екран повідомлення \"Only N is in the name\".\n",
        "\n",
        "В решті випадків виведіть на екран повідомлення \"There is no N in the name, but there might be O\".\n",
        "\n",
        "Зверніть увагу, що, наприклад, для імені \"Antonina\" буде виведено два повідомлення."
      ],
      "metadata": {
        "id": "h9Y3cMUd5h85"
      }
    },
    {
      "cell_type": "code",
      "source": [
        "my_name = \"Svitlana\"\n",
        "name_lower =  my_name.lower()\n",
        "if 'a' in name_lower or 'i' in name_lower:\n",
        "  print(\"A or I is in the name\")\n",
        "\n",
        "if 'o' in name_lower and 'n' in name_lower:\n",
        "  print( \"O and N is in the name\")\n",
        "elif 'o' not in name_lower and 'n' in name_lower:\n",
        "  print(\"Only N is in the name\")\n",
        "else:\n",
        "  print(\"There is no N in the name, but there might be O\")\n",
        "\n"
      ],
      "metadata": {
        "id": "bUH4LUx35u52",
        "colab": {
          "base_uri": "https://localhost:8080/"
        },
        "outputId": "eb99582f-f597-468d-895d-70affdb1d35a"
      },
      "execution_count": 2,
      "outputs": [
        {
          "output_type": "stream",
          "name": "stdout",
          "text": [
            "A or I is in the name\n",
            "Only N is in the name\n"
          ]
        }
      ]
    },
    {
      "cell_type": "markdown",
      "source": [
        "# II. Comprehensions."
      ],
      "metadata": {
        "id": "wPCXJv4354cU"
      }
    },
    {
      "cell_type": "markdown",
      "source": [
        "4. (5б) Створіть список, використовуючи if (не if-else), range та comprehension."
      ],
      "metadata": {
        "id": "jULLW5jN55Pw"
      }
    },
    {
      "cell_type": "code",
      "source": [
        "numbers = [x for x in range(50) if '3' in str(x)]\n",
        "print(numbers)"
      ],
      "metadata": {
        "id": "mlZalnVC6W3F",
        "colab": {
          "base_uri": "https://localhost:8080/"
        },
        "outputId": "0559a40a-3ac7-44dc-e06d-b41c81ebbd0d"
      },
      "execution_count": 4,
      "outputs": [
        {
          "output_type": "stream",
          "name": "stdout",
          "text": [
            "[3, 13, 23, 30, 31, 32, 33, 34, 35, 36, 37, 38, 39, 43]\n"
          ]
        }
      ]
    },
    {
      "cell_type": "markdown",
      "source": [
        "5. (9б) Створіть словник, використовуючи dict comprehension, що містить if else. Коли слід використовувати comprehensions, а коли їх слід уникати?"
      ],
      "metadata": {
        "id": "LqhEQ4JW6XcC"
      }
    },
    {
      "cell_type": "code",
      "source": [
        "words = [\"apple\", \"banana\", \"cherry\", \"kiwi\"]\n",
        "word_check = {word: \"contains A\" if \"a\" in word.lower() else \"no A\" for word in words}\n",
        "print(word_check)"
      ],
      "metadata": {
        "id": "1yVaFbOs6hta",
        "colab": {
          "base_uri": "https://localhost:8080/"
        },
        "outputId": "c00d2f8c-8b90-4577-f830-8d38b4e77057"
      },
      "execution_count": 5,
      "outputs": [
        {
          "output_type": "stream",
          "name": "stdout",
          "text": [
            "{'apple': 'contains A', 'banana': 'contains A', 'cherry': 'no A', 'kiwi': 'no A'}\n"
          ]
        }
      ]
    },
    {
      "cell_type": "markdown",
      "source": [
        "Потрібно використовувати:\n",
        "\n",
        "*   Якщо логіка проста\n",
        "*   Коли потрібно фільтрувати або змінювати значення під час створення словника\n",
        "\n",
        "Не потрібно використовувати:\n",
        "\n",
        "\n",
        "*   Коли логіка занадто складна\n",
        "\n"
      ],
      "metadata": {
        "id": "wbkzNhKq6hzz"
      }
    },
    {
      "cell_type": "markdown",
      "source": [
        "6. (9б) Створіть список з рядками та запишіть його у змінну. Створіть ще один список на основі попереднього, де кожен рядок буде містити тільки три перших заглавних символи. Наприклад: ['hello', 'i', 'dont', 'care'] -> ['HEL', 'I', 'DON', 'CAR']. Використання comprehensions обовʼязкове."
      ],
      "metadata": {
        "id": "ZlqB8G3G6lHP"
      }
    },
    {
      "cell_type": "code",
      "source": [
        "my_cool_list = [\"sun\", \"moon\", \"love\", \"hate\", \"something\"]\n",
        "\n",
        "my_even_coller_list = [word[:3].upper() for word in my_cool_list]\n",
        "print(my_even_coller_list)\n"
      ],
      "metadata": {
        "id": "nw6rz0bR60VC",
        "colab": {
          "base_uri": "https://localhost:8080/"
        },
        "outputId": "d3654445-b842-47b6-d376-6ef2a0caccfa"
      },
      "execution_count": 6,
      "outputs": [
        {
          "output_type": "stream",
          "name": "stdout",
          "text": [
            "['SUN', 'MOO', 'LOV', 'HAT', 'SOM']\n"
          ]
        }
      ]
    },
    {
      "cell_type": "markdown",
      "source": [
        "# III. Цикли."
      ],
      "metadata": {
        "id": "Tj573IAH64Fz"
      }
    },
    {
      "cell_type": "markdown",
      "source": [
        "7. (5б) Продемонструйте роботу циклу while. Не можна використовувати True для запуску циклу, щоб уникнути безкінечного циклу!"
      ],
      "metadata": {
        "id": "tN_33xdE65H5"
      }
    },
    {
      "cell_type": "code",
      "source": [
        "value = 1\n",
        "while value<=10:\n",
        "  print(f\"value: {value}\")\n",
        "  value = value + 1"
      ],
      "metadata": {
        "id": "Kd9FO6yG63P5",
        "colab": {
          "base_uri": "https://localhost:8080/"
        },
        "outputId": "f2f83f0d-328d-4600-a3d7-449bcd0c7c67"
      },
      "execution_count": 10,
      "outputs": [
        {
          "output_type": "stream",
          "name": "stdout",
          "text": [
            "value: 1\n",
            "value: 2\n",
            "value: 3\n",
            "value: 4\n",
            "value: 5\n",
            "value: 6\n",
            "value: 7\n",
            "value: 8\n",
            "value: 9\n",
            "value: 10\n"
          ]
        }
      ]
    },
    {
      "cell_type": "markdown",
      "source": [
        "8. (5б) Напишіть програму, яка виведе на екран непарні числа в діапазоні від 0 до 20 включно."
      ],
      "metadata": {
        "id": "x2CmfZO-7pW0"
      }
    },
    {
      "cell_type": "code",
      "source": [
        "number = 0\n",
        "while number<=20:\n",
        "  if number%2 != 0:\n",
        "    print(number)\n",
        "  number = number + 1"
      ],
      "metadata": {
        "id": "aCSRYA6s7tkF",
        "colab": {
          "base_uri": "https://localhost:8080/"
        },
        "outputId": "6ed0ff60-75e4-449a-bb6b-a563cff727e6"
      },
      "execution_count": 11,
      "outputs": [
        {
          "output_type": "stream",
          "name": "stdout",
          "text": [
            "1\n",
            "3\n",
            "5\n",
            "7\n",
            "9\n",
            "11\n",
            "13\n",
            "15\n",
            "17\n",
            "19\n"
          ]
        }
      ]
    },
    {
      "cell_type": "markdown",
      "source": [
        "9. (13б) Створіть список з елементами булевого типу або None. Використовуючи цикли, отримайте в результаті список з кортежами, де перший елемент кортежу - індекс(ціле число), а другий елемент - відповідне значення з першого списку.\n",
        "\n",
        "Наприклад, [True, True, None, False] -> [(0, True), (1, True), (2, None), (3, False)]"
      ],
      "metadata": {
        "id": "MDWNocZD7t_B"
      }
    },
    {
      "cell_type": "code",
      "source": [
        "my_bool_list = [True, True, None, False, True, False]\n",
        "result = [(i, my_bool_list[i]) for i in range(len(my_bool_list))]\n",
        "\n",
        "print(result)\n"
      ],
      "metadata": {
        "id": "0EUyjMdp7yfh",
        "colab": {
          "base_uri": "https://localhost:8080/"
        },
        "outputId": "317f9541-be50-434a-db1e-eda6cba7745f"
      },
      "execution_count": 13,
      "outputs": [
        {
          "output_type": "stream",
          "name": "stdout",
          "text": [
            "[(0, True), (1, True), (2, None), (3, False), (4, True), (5, False)]\n"
          ]
        }
      ]
    },
    {
      "cell_type": "markdown",
      "source": [
        "10. (9б) Створіть словник, де ключі - назви книжок, а значення - їхня кількість у наявності в Вашій міні-бібліотеці. Бібліотека має містити щонайменше 6 книжок (6 пар значень у словнику) і щонайбільше 10 (пар значень). Використовуючи цикли, оновіть словник (не створюйте новий) так, щоби кількість книг у наявності збільшилося на 5 кожної книги. Наприклад,\n",
        "{'It': 3, 'Fault stars': 10, 'Bible': 17, 'Psychological romance': 4, 'Harry Potter': 13} -> {'It': 8, 'Fault stars': 15, 'Bible': 22, 'Psychological romance': 9, 'Harry Potter': 18}"
      ],
      "metadata": {
        "id": "-6XUqlcG7zKs"
      }
    },
    {
      "cell_type": "code",
      "source": [
        "library = {\n",
        "    \"Об'єктно-орієнтоване програмування\": 3,\n",
        "    \"Сутінки\": 10,\n",
        "    \"Історія України\": 17,\n",
        "    \"Біблія\": 4,\n",
        "    \"Я бачу, вас цікавить пітьма\": 13,\n",
        "    \"Відьмак\": 5\n",
        "}\n",
        "\n",
        "for book in library:\n",
        "    library[book] += 5\n",
        "\n",
        "print(library)\n"
      ],
      "metadata": {
        "id": "Ceoj9wwb791q",
        "colab": {
          "base_uri": "https://localhost:8080/"
        },
        "outputId": "6a907e2e-c794-4929-d829-de7ffc01811a"
      },
      "execution_count": 15,
      "outputs": [
        {
          "output_type": "stream",
          "name": "stdout",
          "text": [
            "{\"Об'єктно-орієнтоване програмування\": 8, 'Сутінки': 15, 'Історія України': 22, 'Біблія': 9, 'Я бачу, вас цікавить пітьма': 18, 'Відьмак': 10}\n"
          ]
        }
      ]
    },
    {
      "cell_type": "markdown",
      "source": [
        "11. (5б) Визначте цілочислену змінну n, що належить проміжку від 4 до 10 включно. Використовуючи цикли, виведіть в консоль наступний патерн.\n",
        "\n",
        "#\n",
        "##\n",
        "###\n",
        "####\n",
        "\n",
        "... #*n\n"
      ],
      "metadata": {
        "id": "QLzyJM288AC7"
      }
    },
    {
      "cell_type": "code",
      "source": [
        "n = 5\n",
        "for i in range(1, n + 1):\n",
        "    print('#' * i)\n",
        ""
      ],
      "metadata": {
        "id": "KOpng87s8Duz",
        "colab": {
          "base_uri": "https://localhost:8080/"
        },
        "outputId": "0a0da986-f625-48d6-f640-0ea6c88194bf"
      },
      "execution_count": 16,
      "outputs": [
        {
          "output_type": "stream",
          "name": "stdout",
          "text": [
            "#\n",
            "##\n",
            "###\n",
            "####\n",
            "#####\n"
          ]
        }
      ]
    },
    {
      "cell_type": "markdown",
      "source": [
        "12. (13б) Гра \"Нумо вгадай\".\n",
        "Розробіть просту гру, де користувач має вгадати випадкове число від 1 до 100. Для генерації випадкового числа використовуйте функцію random.randint(a, b) (тут a та b включно). Для отримання числа з консолі використовуйте функцію input(), результат якої обовʼязково явно приведіть до типу int.\n",
        "\n",
        "Підказка: використовуйте цикл while та умови if-else, щоб повідомити користувачу піказки (напр. \"Більше\", \"Менше\") поки користувач не вгадає. По завершенню виведіть кількість спроб, які знадобилися для вгадування."
      ],
      "metadata": {
        "id": "_bd-bqAT8EHn"
      }
    },
    {
      "cell_type": "code",
      "source": [
        "import random\n",
        "guess_number = random.randint(1, 100)\n",
        "chosen_number = int(input(\"Guess the number between 1 and 100: \"))\n",
        "attempts = 1\n",
        "\n",
        "while chosen_number != guess_number:\n",
        "    if chosen_number < guess_number:\n",
        "        print(\"Your number is less than the desired number.\")\n",
        "    else:\n",
        "        print(\"Your number is greater than the desired number.\")\n",
        "    chosen_number = int(input(\"Try again: \"))\n",
        "    attempts += 1\n",
        "\n",
        "print(f\"Hurray! You found the number {guess_number}. It took you {attempts} attempts.\")\n"
      ],
      "metadata": {
        "id": "IK9nnxFK8Hkl",
        "colab": {
          "base_uri": "https://localhost:8080/"
        },
        "outputId": "09534486-1898-4ca5-91ec-b603474914c0"
      },
      "execution_count": 18,
      "outputs": [
        {
          "output_type": "stream",
          "name": "stdout",
          "text": [
            "Guess the number between 1 and 100: 5\n",
            "Your number is less than the desired number.\n",
            "Try again: 50\n",
            "Your number is greater than the desired number.\n",
            "Try again: 30\n",
            "Your number is greater than the desired number.\n",
            "Try again: 25\n",
            "Your number is greater than the desired number.\n",
            "Try again: 15\n",
            "Your number is less than the desired number.\n",
            "Try again: 17\n",
            "Hurray! You found the number 17. It took you 6 attempts.\n"
          ]
        }
      ]
    },
    {
      "cell_type": "markdown",
      "source": [
        "# Вітаю! Ви велика(ий) молодець, що впоралась(вся). Похваліть себе та побалуйте чимось приємним. Я Вами пишаюся."
      ],
      "metadata": {
        "id": "PXoXWb7Z8IGi"
      }
    },
    {
      "cell_type": "markdown",
      "source": [
        "![3cc61424f928acd5ae91bde593f191f6.jpg](data:image/jpeg;base64,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)"
      ],
      "metadata": {
        "id": "1e3a8q7D2cXZ"
      }
    }
  ]
}