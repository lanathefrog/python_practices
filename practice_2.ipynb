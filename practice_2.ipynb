{
  "nbformat": 4,
  "nbformat_minor": 0,
  "metadata": {
    "colab": {
      "provenance": []
    },
    "kernelspec": {
      "name": "python3",
      "display_name": "Python 3"
    },
    "language_info": {
      "name": "python"
    }
  },
  "cells": [
    {
      "cell_type": "markdown",
      "source": [
        "# I. Змінні та памʼять."
      ],
      "metadata": {
        "id": "p9wwt0LZzNvn"
      }
    },
    {
      "cell_type": "markdown",
      "source": [
        "1. Створити змінні, що посилаються на два цілих числа, що однакові за значенням, де значення належить проміжку від -5 до 256. Перевірте, чи будуть ці змінні рівні тільки за значенням або ж ще будуть посилатися на один і той самий обʼєкт в памʼяті? Наведіть код та дайте текстову відповідь нижче."
      ],
      "metadata": {
        "id": "HTJrrm95xSV9"
      }
    },
    {
      "cell_type": "code",
      "execution_count": 7,
      "metadata": {
        "id": "TATni2vzayjG",
        "colab": {
          "base_uri": "https://localhost:8080/"
        },
        "outputId": "2bad91c5-1423-4a2f-daf5-f96bf1405adb"
      },
      "outputs": [
        {
          "output_type": "stream",
          "name": "stdout",
          "text": [
            "5 and 5 are equal by value\n",
            "5 and 5 are equal by index\n"
          ]
        }
      ],
      "source": [
        "a = 5\n",
        "b = 5\n",
        "if a==b:\n",
        "    print(f\"{a} and {b} are equal by value\")\n",
        "else:\n",
        "    print(f\"{a} and {b} are not equal by value\")\n",
        "\n",
        "\n",
        "if id(a)==id(b):\n",
        "    print(f\"{a} and {b} are equal by index\")\n",
        "else:\n",
        "    print(f\"{a} and {b} are not equal by index\")"
      ]
    },
    {
      "cell_type": "markdown",
      "source": [
        "Так, ці змінні будуть посилатись на один об'єкт"
      ],
      "metadata": {
        "id": "zfRG_o3WbRdg"
      }
    },
    {
      "cell_type": "markdown",
      "source": [
        "2. За допомогою якої функції можна перевірити належність змінної до вказаного типу даних (напр. чи змінна True посилається на значення булевого та цілочисленого типу)?"
      ],
      "metadata": {
        "id": "ISORzt6M3vAt"
      }
    },
    {
      "cell_type": "code",
      "source": [
        "a = True\n",
        "if isinstance(a, bool):\n",
        "  print(f\"{a} is bool\")\n",
        "else:\n",
        "   print(f\"{a} is not bool\")"
      ],
      "metadata": {
        "id": "9vL9CFaMbfyo",
        "colab": {
          "base_uri": "https://localhost:8080/"
        },
        "outputId": "91161f96-d981-4409-a1ca-2003640cb431"
      },
      "execution_count": 9,
      "outputs": [
        {
          "output_type": "stream",
          "name": "stdout",
          "text": [
            "True is bool\n"
          ]
        }
      ]
    },
    {
      "cell_type": "markdown",
      "source": [
        "# II. Цілі числа та числа з рухомою комою"
      ],
      "metadata": {
        "id": "tRxugKAxwYLw"
      }
    },
    {
      "cell_type": "markdown",
      "source": [
        "3. Створити дві змінні, що посилаються на будь-які ціле число та число з рухомою комою та продемонструвати такі арифметичні операції: додавання, віднімання, ділення, множення, ділення без залишку, ділення по модулю, приведення до ступеню. Всі результати операцій вивести на екран."
      ],
      "metadata": {
        "id": "NLHkgd5Gybc8"
      }
    },
    {
      "cell_type": "code",
      "source": [
        "a = 15.3\n",
        "b = 3.2\n",
        "print(a+b)\n",
        "print(a-b)\n",
        "print(a*b)\n",
        "print(a//b)\n",
        "print(a%b)\n",
        "print(a**b)"
      ],
      "metadata": {
        "id": "nb8u_3pjb2cA",
        "colab": {
          "base_uri": "https://localhost:8080/"
        },
        "outputId": "8a8e0e38-342b-4d33-800e-3991b4d1437f"
      },
      "execution_count": 12,
      "outputs": [
        {
          "output_type": "stream",
          "name": "stdout",
          "text": [
            "18.5\n",
            "12.100000000000001\n",
            "48.96000000000001\n",
            "4.0\n",
            "2.5\n",
            "6180.343002133122\n"
          ]
        }
      ]
    },
    {
      "cell_type": "markdown",
      "source": [
        "4. Використовуючи змінні з вправи 3, продемонструйте механізм явного перетворення типів, де числа з рухомою комою перетворюються на цілі числа. Також визначте змінну, що посилається на значення булевого типу і спробуйте явно привести її до цілого числа."
      ],
      "metadata": {
        "id": "1kBClKgPzZnC"
      }
    },
    {
      "cell_type": "code",
      "source": [
        "a = 15.3\n",
        "b = 3.2\n",
        "print(int(a))\n",
        "print(int(b))\n",
        "c = True\n",
        "print(int(c))"
      ],
      "metadata": {
        "id": "TbqJbkeUcKsD",
        "colab": {
          "base_uri": "https://localhost:8080/"
        },
        "outputId": "3bb3803b-f799-41f9-d85a-ffe0b6a421c0"
      },
      "execution_count": 13,
      "outputs": [
        {
          "output_type": "stream",
          "name": "stdout",
          "text": [
            "15\n",
            "3\n",
            "1\n"
          ]
        }
      ]
    },
    {
      "cell_type": "markdown",
      "source": [
        "# IІІ. Рядки (String)."
      ],
      "metadata": {
        "id": "EVJ7AflwxrZi"
      }
    },
    {
      "cell_type": "markdown",
      "source": [
        "5. Створити пустий рядок двома різними способами."
      ],
      "metadata": {
        "id": "_s5ECzz9zE61"
      }
    },
    {
      "cell_type": "code",
      "source": [
        "a = \"\"\n",
        "b = str()\n",
        "print(a)\n",
        "print(b)"
      ],
      "metadata": {
        "id": "fkZJHu9Scvc-",
        "colab": {
          "base_uri": "https://localhost:8080/"
        },
        "outputId": "1476b7c8-b7a5-46f0-dcc0-dcd0e9eeadaf"
      },
      "execution_count": 14,
      "outputs": [
        {
          "output_type": "stream",
          "name": "stdout",
          "text": [
            "\n",
            "\n"
          ]
        }
      ]
    },
    {
      "cell_type": "markdown",
      "source": [
        "6. Створити рядок з апострофом. Зробити його сирим. Вивести обидва рядка на екран."
      ],
      "metadata": {
        "id": "4Bdn9J3MzLf_"
      }
    },
    {
      "cell_type": "code",
      "source": [
        "a = r\"wkjnk'sg''\"\n",
        "print(a)"
      ],
      "metadata": {
        "id": "ivji_hsmc0GH",
        "colab": {
          "base_uri": "https://localhost:8080/"
        },
        "outputId": "a281cf0b-cbbf-4053-b709-d6f0a64b16a3"
      },
      "execution_count": 26,
      "outputs": [
        {
          "output_type": "stream",
          "name": "stdout",
          "text": [
            "wkjnk'sg''\n"
          ]
        }
      ]
    },
    {
      "cell_type": "markdown",
      "source": [
        "7. Створити змінну, що буде посилатися на Ваше прізвище латинкою. Створити форматований рядок, який буде мати вигляд \"My surname is ______\", де на місці нижніх підкреслень буде Ваше прізвище зі змінної."
      ],
      "metadata": {
        "id": "bg_d8wM4z8dS"
      }
    },
    {
      "cell_type": "code",
      "source": [
        "a = \"Bublyk\"\n",
        "b = f\"My surname is {a}\"\n",
        "print(b)"
      ],
      "metadata": {
        "id": "kuxFgpWndACq",
        "colab": {
          "base_uri": "https://localhost:8080/"
        },
        "outputId": "5694e2ae-a309-4877-8e4c-1cb3347dd729"
      },
      "execution_count": 27,
      "outputs": [
        {
          "output_type": "stream",
          "name": "stdout",
          "text": [
            "My surname is Bublyk\n"
          ]
        }
      ]
    },
    {
      "cell_type": "markdown",
      "source": [
        "8. Маючи рядок \"My dog is crazy.\" перетворити його на список [\"my\", \"dog\", \"is\", \"crazy\"]"
      ],
      "metadata": {
        "id": "1Nc6RqvQ0hxU"
      }
    },
    {
      "cell_type": "code",
      "source": [
        "a = \"My dog is crazy.\"\n",
        "b = a[:-1].lower().split()\n",
        "print(b)"
      ],
      "metadata": {
        "id": "w1Ya4RqedUhw",
        "colab": {
          "base_uri": "https://localhost:8080/"
        },
        "outputId": "6647edc9-4ede-4081-9c1d-329b92f276d6"
      },
      "execution_count": 29,
      "outputs": [
        {
          "output_type": "stream",
          "name": "stdout",
          "text": [
            "['my', 'dog', 'is', 'crazy']\n"
          ]
        }
      ]
    },
    {
      "cell_type": "markdown",
      "source": [
        "# IV. Робота зі списками."
      ],
      "metadata": {
        "id": "GYVqN9uP1D4n"
      }
    },
    {
      "cell_type": "markdown",
      "source": [
        "9. Створити список двома різними за синтаксисом способами. За допомогою вбудованої функції обчисліть довжину одного з них."
      ],
      "metadata": {
        "id": "7-DeDunw2sO-"
      }
    },
    {
      "cell_type": "code",
      "source": [
        "list_a = [1, 2, 3]\n",
        "list_b = list((4, 5, 6, 7))\n",
        "length_a = len(list_a)\n",
        "print(length_a)\n"
      ],
      "metadata": {
        "id": "zxg06Uuxdyoh",
        "colab": {
          "base_uri": "https://localhost:8080/"
        },
        "outputId": "004da5cc-cdcf-435e-f951-0a2b84e7938f"
      },
      "execution_count": 32,
      "outputs": [
        {
          "output_type": "stream",
          "name": "stdout",
          "text": [
            "3\n"
          ]
        }
      ]
    },
    {
      "cell_type": "markdown",
      "source": [
        "10. Створіть два списка та за допомогою спеціального методу додайте другий з них в якості останнього елемента першого."
      ],
      "metadata": {
        "id": "8vmGUTjL22gI"
      }
    },
    {
      "cell_type": "code",
      "source": [
        "list_a = [1, 2, 3, 4, 5]\n",
        "list_b = [6, 7, 8, 9, 10]\n",
        "list_a.append(list_b)\n",
        "\n",
        "print(list_a)"
      ],
      "metadata": {
        "id": "uHtjWYw7d7hm",
        "colab": {
          "base_uri": "https://localhost:8080/"
        },
        "outputId": "09b3649d-34f4-4df0-ba1d-94acecc600a2"
      },
      "execution_count": 10,
      "outputs": [
        {
          "output_type": "stream",
          "name": "stdout",
          "text": [
            "[1, 2, 3, 4, 5, [6, 7, 8, 9, 10]]\n"
          ]
        }
      ]
    },
    {
      "cell_type": "markdown",
      "source": [
        "11. Створіть список, де елементами цього списку також є списки. Отримай перший елемент з останнього рядка та виведи значення на екран."
      ],
      "metadata": {
        "id": "JC3BkD-67_--"
      }
    },
    {
      "cell_type": "code",
      "source": [
        "list_a = [[1, 2, 3], [4, 5, 6], [7, 8, 9]]\n",
        "element = list_a[-1][0]\n",
        "print(element)"
      ],
      "metadata": {
        "colab": {
          "base_uri": "https://localhost:8080/"
        },
        "id": "O_T2kwd0VqgT",
        "outputId": "044a8777-186f-4122-f30b-776f535ed869"
      },
      "execution_count": 34,
      "outputs": [
        {
          "output_type": "stream",
          "name": "stdout",
          "text": [
            "7\n"
          ]
        }
      ]
    },
    {
      "cell_type": "markdown",
      "source": [
        "12. Створіть список з десяти елементів різного типу. Отримайте всі елементи, окрім двох перших та двох останніх та збережіть їх в новій змінній."
      ],
      "metadata": {
        "id": "JA47PKTv8zFK"
      }
    },
    {
      "cell_type": "code",
      "source": [
        "list_a = [\"a\", 45, 38, True, False, False, \"ice cream\", \"cherry\", \"water\", 10]\n",
        "slice_list_a = list_a[2:-2]\n",
        "print(slice_list_a)"
      ],
      "metadata": {
        "id": "_rHdUR-ueP4-",
        "colab": {
          "base_uri": "https://localhost:8080/"
        },
        "outputId": "a3a5e65a-c0c7-4549-9e99-a236c11d03dd"
      },
      "execution_count": 36,
      "outputs": [
        {
          "output_type": "stream",
          "name": "stdout",
          "text": [
            "[38, True, False, False, 'ice cream', 'cherry']\n"
          ]
        }
      ]
    },
    {
      "cell_type": "markdown",
      "source": [
        "# V. Робота з кортежами."
      ],
      "metadata": {
        "id": "pCjR1dJb1Qbi"
      }
    },
    {
      "cell_type": "markdown",
      "source": [
        "14. Створити кортеж з один елементом."
      ],
      "metadata": {
        "id": "fAZCxAX06R_k"
      }
    },
    {
      "cell_type": "code",
      "source": [
        "tuple_a = (\"a\",)\n",
        "print(tuple_a)"
      ],
      "metadata": {
        "id": "H7d82WkQev3e",
        "colab": {
          "base_uri": "https://localhost:8080/"
        },
        "outputId": "2a6ba432-3594-45b4-d4ed-91d65b09cb96"
      },
      "execution_count": 4,
      "outputs": [
        {
          "output_type": "stream",
          "name": "stdout",
          "text": [
            "('a',)\n"
          ]
        }
      ]
    },
    {
      "cell_type": "markdown",
      "source": [
        "15. Порівняйте список та кортеж. Назвіть схожості та відмінності, випадки використання."
      ],
      "metadata": {
        "id": "8LCtYcmI6w1M"
      }
    },
    {
      "cell_type": "markdown",
      "source": [
        "Схожості:\n",
        "- Обидва є колекціями, які можуть містити елементи різних типів.\n",
        "- Обидва підтримують індексацію, зрізи та ітерацію.\n",
        "- Обидва можуть містити дублікати елементів.\n",
        "\n",
        "Відмінності:\n",
        "- Список є змінним, а кортеж — ні\n",
        "- Список створюється за допомогою квадратних дужок, а кортеж — за допомогою круглих\n",
        "- Кортежі зазвичай займають менше пам'яті та швидше обробляються, ніж списки\n",
        "\n",
        "Випадки використання:\n",
        "- Списки використовуються, коли потрібна колекція елементів, яку можна змінювати, наприклад, додавати або видаляти елементи.\n",
        "- Кортежі використовуються, коли потрібна колекція елементів, яка не повинна змінюватися протягом виконання програми"
      ],
      "metadata": {
        "id": "fUsN1Hnue0C6"
      }
    },
    {
      "cell_type": "markdown",
      "source": [
        "16. Створіть кортеж з 11ти елементів чисел з рухомою комою та отримайте кожен парний за індексом елемент в зворотньому порядку. Наприклад, маючи (1.2, 2.3, 3.3, 4.3, 5.3, 6.3, 7.3, 8.3, 9.3, 0.3), отримати (0.3, 8.3, 6.3, 4.3, 2.3). Результат збережіть в нову змінну та виведіть на екран."
      ],
      "metadata": {
        "id": "m0xrwFijAmDD"
      }
    },
    {
      "cell_type": "code",
      "source": [
        "tuple = (1.2, 2.3, 3.3, 4.3, 5.3, 6.3, 7.3, 8.3, 9.3, 0.3)\n",
        "tuple1 = tuple[::2]\n",
        "tuple2 = tuple1[::-1]\n",
        "print(tuple2)\n"
      ],
      "metadata": {
        "id": "p-5DAH6XfAGA",
        "colab": {
          "base_uri": "https://localhost:8080/"
        },
        "outputId": "4706fdb8-62d8-4d36-f692-576615bf59bf"
      },
      "execution_count": 7,
      "outputs": [
        {
          "output_type": "stream",
          "name": "stdout",
          "text": [
            "(9.3, 7.3, 5.3, 3.3, 1.2)\n"
          ]
        }
      ]
    },
    {
      "cell_type": "markdown",
      "source": [
        "# VI. Множини (Set)."
      ],
      "metadata": {
        "id": "rW_I9dt3x6cW"
      }
    },
    {
      "cell_type": "markdown",
      "source": [
        "17. Створити множину без елементів. Після цого за допомогою методу додайте кілька різних елементів до множини. Чи множини є змінним типом даних?"
      ],
      "metadata": {
        "id": "zNjRLHLw1Bgg"
      }
    },
    {
      "cell_type": "code",
      "source": [
        "my_set = set()\n",
        "my_set.add(\"july\")\n",
        "my_set.add(\"august\")\n",
        "print(my_set)"
      ],
      "metadata": {
        "id": "KOv7zc2Kfo4N",
        "colab": {
          "base_uri": "https://localhost:8080/",
          "height": 193
        },
        "outputId": "e1bbef20-e561-488f-bc6b-845928487ca7"
      },
      "execution_count": 31,
      "outputs": [
        {
          "output_type": "error",
          "ename": "TypeError",
          "evalue": "'dict' object is not callable",
          "traceback": [
            "\u001b[0;31m---------------------------------------------------------------------------\u001b[0m",
            "\u001b[0;31mTypeError\u001b[0m                                 Traceback (most recent call last)",
            "\u001b[0;32m<ipython-input-31-53650726a3c7>\u001b[0m in \u001b[0;36m<cell line: 0>\u001b[0;34m()\u001b[0m\n\u001b[0;32m----> 1\u001b[0;31m \u001b[0mmy_set\u001b[0m \u001b[0;34m=\u001b[0m \u001b[0mset\u001b[0m\u001b[0;34m(\u001b[0m\u001b[0;34m)\u001b[0m\u001b[0;34m\u001b[0m\u001b[0;34m\u001b[0m\u001b[0m\n\u001b[0m\u001b[1;32m      2\u001b[0m \u001b[0mmy_set\u001b[0m\u001b[0;34m.\u001b[0m\u001b[0madd\u001b[0m\u001b[0;34m(\u001b[0m\u001b[0;34m\"july\"\u001b[0m\u001b[0;34m)\u001b[0m\u001b[0;34m\u001b[0m\u001b[0;34m\u001b[0m\u001b[0m\n\u001b[1;32m      3\u001b[0m \u001b[0mmy_set\u001b[0m\u001b[0;34m.\u001b[0m\u001b[0madd\u001b[0m\u001b[0;34m(\u001b[0m\u001b[0;34m\"august\"\u001b[0m\u001b[0;34m)\u001b[0m\u001b[0;34m\u001b[0m\u001b[0;34m\u001b[0m\u001b[0m\n\u001b[1;32m      4\u001b[0m \u001b[0mprint\u001b[0m\u001b[0;34m(\u001b[0m\u001b[0mmy_set\u001b[0m\u001b[0;34m)\u001b[0m\u001b[0;34m\u001b[0m\u001b[0;34m\u001b[0m\u001b[0m\n",
            "\u001b[0;31mTypeError\u001b[0m: 'dict' object is not callable"
          ]
        }
      ]
    },
    {
      "cell_type": "markdown",
      "source": [
        "Ні, множини є незмінним типом даних"
      ],
      "metadata": {
        "id": "vxS6dVYiftZQ"
      }
    },
    {
      "cell_type": "markdown",
      "source": [
        "18. Створити множину, маючи список my_list = [1, 1, 2, 67, 67, 8, 9]. Пояснити, чому \"зникли\" деякі елементи."
      ],
      "metadata": {
        "id": "gHpT0Zw_1HEF"
      }
    },
    {
      "cell_type": "code",
      "source": [
        "my_list = [1, 1, 2, 67, 67, 8, 9]\n",
        "my_set = set(my_list)\n",
        "print(my_set)"
      ],
      "metadata": {
        "id": "qCN4uvJ_fxmu",
        "colab": {
          "base_uri": "https://localhost:8080/",
          "height": 176
        },
        "outputId": "0770c92d-e265-478f-f003-d2815ef0ee1a"
      },
      "execution_count": 15,
      "outputs": [
        {
          "output_type": "error",
          "ename": "TypeError",
          "evalue": "'list' object is not callable",
          "traceback": [
            "\u001b[0;31m---------------------------------------------------------------------------\u001b[0m",
            "\u001b[0;31mTypeError\u001b[0m                                 Traceback (most recent call last)",
            "\u001b[0;32m<ipython-input-15-46432a36864c>\u001b[0m in \u001b[0;36m<cell line: 0>\u001b[0;34m()\u001b[0m\n\u001b[1;32m      1\u001b[0m \u001b[0mmy_list\u001b[0m \u001b[0;34m=\u001b[0m \u001b[0;34m[\u001b[0m\u001b[0;36m1\u001b[0m\u001b[0;34m,\u001b[0m \u001b[0;36m1\u001b[0m\u001b[0;34m,\u001b[0m \u001b[0;36m2\u001b[0m\u001b[0;34m,\u001b[0m \u001b[0;36m67\u001b[0m\u001b[0;34m,\u001b[0m \u001b[0;36m67\u001b[0m\u001b[0;34m,\u001b[0m \u001b[0;36m8\u001b[0m\u001b[0;34m,\u001b[0m \u001b[0;36m9\u001b[0m\u001b[0;34m]\u001b[0m\u001b[0;34m\u001b[0m\u001b[0;34m\u001b[0m\u001b[0m\n\u001b[0;32m----> 2\u001b[0;31m \u001b[0mmy_set\u001b[0m \u001b[0;34m=\u001b[0m \u001b[0mset\u001b[0m\u001b[0;34m(\u001b[0m\u001b[0mmy_list\u001b[0m\u001b[0;34m)\u001b[0m\u001b[0;34m\u001b[0m\u001b[0;34m\u001b[0m\u001b[0m\n\u001b[0m\u001b[1;32m      3\u001b[0m \u001b[0mprint\u001b[0m\u001b[0;34m(\u001b[0m\u001b[0mmy_set\u001b[0m\u001b[0;34m)\u001b[0m\u001b[0;34m\u001b[0m\u001b[0;34m\u001b[0m\u001b[0m\n",
            "\u001b[0;31mTypeError\u001b[0m: 'list' object is not callable"
          ]
        }
      ]
    },
    {
      "cell_type": "markdown",
      "source": [
        "У списку не будуть присутні деякі елементи, тому що в списках не допускаються дублікати\n"
      ],
      "metadata": {
        "id": "tFNc1e20fyny"
      }
    },
    {
      "cell_type": "markdown",
      "source": [
        "19. Створіть дві множини. Продемонстуйте над ними операції: обʼєднання, різниці, пересічі та симетричної різниці. Використовуйте методи, що не змінюють множини, а створюють нові."
      ],
      "metadata": {
        "id": "SRMkGizS1UwY"
      }
    },
    {
      "cell_type": "code",
      "source": [
        "set1 = {1, 2, 3, 4, 5, 10, 6, 88}\n",
        "set2 = {4, 5, 6, 7, 8, 88, 13}\n",
        "print(\"Set 1: \" + str(set1))\n",
        "print(\"Set 2: \" + str(set2))\n",
        "\n",
        "union_set = set1.union(set2)\n",
        "print(\"Union:\", union_set)\n",
        "difference_set = set1.difference(set2)\n",
        "print(\"Difference:\", difference_set)\n",
        "intersection_set = set1.intersection(set2)\n",
        "print(\"Intersection:\", intersection_set)\n",
        "symmetric_difference_set = set1.symmetric_difference(set2)\n",
        "print(\"Symmetric Difference:\", symmetric_difference_set)"
      ],
      "metadata": {
        "colab": {
          "base_uri": "https://localhost:8080/"
        },
        "id": "nuYLf5_z9h2c",
        "outputId": "42209f25-d4d0-45de-ed16-878d370e9d27"
      },
      "execution_count": 24,
      "outputs": [
        {
          "output_type": "stream",
          "name": "stdout",
          "text": [
            "Set 1: {1, 2, 3, 4, 5, 6, 10, 88}\n",
            "Set 2: {4, 5, 6, 7, 8, 88, 13}\n",
            "Union: {1, 2, 3, 4, 5, 6, 7, 8, 10, 13, 88}\n",
            "Difference: {10, 1, 2, 3}\n",
            "Intersection: {88, 4, 5, 6}\n",
            "Symmetric Difference: {1, 2, 3, 7, 8, 10, 13}\n"
          ]
        }
      ]
    },
    {
      "cell_type": "markdown",
      "source": [
        "# VII. Словники (Dictionary)."
      ],
      "metadata": {
        "id": "kWc8gkzTx7Ea"
      }
    },
    {
      "cell_type": "markdown",
      "source": [
        "20. Створіть пустий словник. До нього додайте чотири пари елементів такі, щоб їхні ключі були різних типів. Чи може список бути ключем? Чому?"
      ],
      "metadata": {
        "id": "i5FLwj-B2ybQ"
      }
    },
    {
      "cell_type": "code",
      "source": [
        "my_dict = {}\n",
        "\n",
        "my_dict[\"one\"] = 1\n",
        "my_dict[2] = 2\n",
        "my_dict[3.0] = 3\n",
        "my_dict[(4, 5)] = 4\n",
        "\n",
        "print(my_dict)"
      ],
      "metadata": {
        "id": "hxgv3BzrgLAV",
        "colab": {
          "base_uri": "https://localhost:8080/"
        },
        "outputId": "fb2cf507-52d9-4d2c-d56d-e0a58bb1987d"
      },
      "execution_count": 25,
      "outputs": [
        {
          "output_type": "stream",
          "name": "stdout",
          "text": [
            "{'one': 1, 2: 2, 3.0: 3, (4, 5): 4}\n"
          ]
        }
      ]
    },
    {
      "cell_type": "markdown",
      "source": [
        "Список не може бути ключем, тому що він має бути незмінним, а списки є mutable"
      ],
      "metadata": {
        "id": "zwa7UVN-gR3m"
      }
    },
    {
      "cell_type": "markdown",
      "source": [
        "21. Створіть словник, де значенням в одній з пар теж буде словник, який теж має вкладений словник. Виведіть на екран значення, що міститься в словнику, що знаходиться на найнижчому рівні ієрархії вкладеності (найбільш внутрішній)."
      ],
      "metadata": {
        "id": "WM_pMlJsgoNf"
      }
    },
    {
      "cell_type": "code",
      "source": [
        "nested_dict = {\n",
        "    \"food\": \"hamburger\",\n",
        "    \"drinks\": {\n",
        "        \"fizzy_drinks\": \"cola\",\n",
        "        \"not-fizzy-drinks\": {\n",
        "            \"juice\": \"orange juice\"\n",
        "        }\n",
        "    }\n",
        "}\n",
        "\n",
        "inner_value = nested_dict[\"drinks\"][\"not-fizzy-drinks\"][\"juice\"]\n",
        "print(inner_value)"
      ],
      "metadata": {
        "id": "60dlP7IHhAy4",
        "colab": {
          "base_uri": "https://localhost:8080/"
        },
        "outputId": "89d9a7f5-92f9-4088-d26f-351e74d62c51"
      },
      "execution_count": 27,
      "outputs": [
        {
          "output_type": "stream",
          "name": "stdout",
          "text": [
            "orange juice\n"
          ]
        }
      ]
    },
    {
      "cell_type": "markdown",
      "source": [
        "# Вітаю! Ви велика(ий) молодець, що впоралась(вся). Похваліть себе та побалуйте чимось приємним. Я Вами пишаюся."
      ],
      "metadata": {
        "id": "xOZP0hkx6cCr"
      }
    },
    {
      "cell_type": "markdown",
      "source": [
        "![86e5d032ddbfd3219da4d2353f158bba.jpg](data:image/jpeg;base64,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)"
      ],
      "metadata": {
        "id": "e0xn454g_f68"
      }
    }
  ]
}